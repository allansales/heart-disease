{
 "cells": [
  {
   "cell_type": "code",
   "execution_count": 28,
   "metadata": {
    "collapsed": true
   },
   "outputs": [],
   "source": [
    "import pandas as pd\n",
    "from joblib import load\n",
    "from sklearn.preprocessing import LabelEncoder\n",
    "from sklearn.preprocessing import MinMaxScaler\n",
    "\n",
    "from argparse import ArgumentParser\n",
    "import math"
   ]
  },
  {
   "cell_type": "code",
   "execution_count": 2,
   "metadata": {
    "collapsed": false
   },
   "outputs": [
    {
     "name": "stderr",
     "output_type": "stream",
     "text": [
      "usage: ipykernel_launcher.py [-h] [-i INPUT] [-o OUTPUT]\n",
      "ipykernel_launcher.py: error: unrecognized arguments: -f /run/user/1002/jupyter/kernel-882872f1-577a-4f31-acb3-0062e2647d02.json\n"
     ]
    },
    {
     "ename": "SystemExit",
     "evalue": "2",
     "output_type": "error",
     "traceback": [
      "An exception has occurred, use %tb to see the full traceback.\n",
      "\u001b[0;31mSystemExit\u001b[0m\u001b[0;31m:\u001b[0m 2\n"
     ]
    },
    {
     "name": "stderr",
     "output_type": "stream",
     "text": [
      "/home/allan/anaconda2/lib/python2.7/site-packages/IPython/core/interactiveshell.py:2889: UserWarning: To exit: use 'exit', 'quit', or Ctrl-D.\n",
      "  warn(\"To exit: use 'exit', 'quit', or Ctrl-D.\", stacklevel=1)\n"
     ]
    }
   ],
   "source": [
    "parser = ArgumentParser()\n",
    "parser.add_argument(\"-i\", \"--input\", dest=\"input\",\n",
    "                    help=\"Input file path\", metavar=\"INPUT\")\n",
    "\n",
    "parser.add_argument(\"-o\", \"--output\", dest=\"output\",\n",
    "                    help=\"Output file path\", metavar=\"OUTPUT\")\n",
    "\n",
    "args = parser.parse_args()"
   ]
  },
  {
   "cell_type": "code",
   "execution_count": 55,
   "metadata": {
    "collapsed": false
   },
   "outputs": [],
   "source": [
    "# Data load\n",
    "new_data = pd.read_csv(args.input)"
   ]
  },
  {
   "cell_type": "code",
   "execution_count": 56,
   "metadata": {
    "collapsed": false
   },
   "outputs": [],
   "source": [
    "column = ['sbp','tobacco','ldl','adiposity','famhist','type','obesity','alcohol','age']\n",
    "new_data.columns=column"
   ]
  },
  {
   "cell_type": "code",
   "execution_count": 57,
   "metadata": {
    "collapsed": false,
    "scrolled": true
   },
   "outputs": [],
   "source": [
    "# Data preprocessing\n",
    "encoder = LabelEncoder()\n",
    "new_data['famhist'] = encoder.fit_transform(new_data['famhist'])\n",
    "scale = MinMaxScaler(feature_range =(0,100))\n",
    "new_data['sbp'] = scale.fit_transform(new_data['sbp'].values.reshape(-1,1))"
   ]
  },
  {
   "cell_type": "code",
   "execution_count": 58,
   "metadata": {
    "collapsed": false
   },
   "outputs": [],
   "source": [
    "# Load model\n",
    "def sigmoid(x):\n",
    "  return 1 / (1 + math.exp(-x))\n",
    "\n",
    "## Logit coefficients\n",
    "logit_coef = [ 0.00828798,  0.10091803,  0.16580194,  0.04199072, -0.8685583, 0.01429065, -0.1419972 , -0.00107974,  0.02339634]\n",
    "logit_intercept = -0.78985061\n",
    "\n",
    "prob = new_data.multiply(logit_coef, axis=1).sum(axis=1) + logit_intercept\n",
    "prob = prob.apply(sigmoid)"
   ]
  },
  {
   "cell_type": "code",
   "execution_count": 59,
   "metadata": {
    "collapsed": false
   },
   "outputs": [],
   "source": [
    "#return class of instance\n",
    "def define_class(x):\n",
    "    if(x < 0.5):\n",
    "        return 0\n",
    "    return 1\n",
    "\n",
    "# predict heart disease\n",
    "pred = prob.apply(define_class)"
   ]
  },
  {
   "cell_type": "code",
   "execution_count": 60,
   "metadata": {
    "collapsed": true
   },
   "outputs": [],
   "source": [
    "# Add prediction to raw data\n",
    "new_data = new_data.assign(chd=pred)"
   ]
  },
  {
   "cell_type": "code",
   "execution_count": null,
   "metadata": {
    "collapsed": true
   },
   "outputs": [],
   "source": [
    "# Write results\n",
    "new_data.to_csv(args.output, index=False)"
   ]
  }
 ],
 "metadata": {
  "anaconda-cloud": {},
  "kernelspec": {
   "display_name": "Python 3",
   "language": "python",
   "name": "python3"
  },
  "language_info": {
   "codemirror_mode": {
    "name": "ipython",
    "version": 2
   },
   "file_extension": ".py",
   "mimetype": "text/x-python",
   "name": "python",
   "nbconvert_exporter": "python",
   "pygments_lexer": "ipython2",
   "version": "2.7.15"
  }
 },
 "nbformat": 4,
 "nbformat_minor": 1
}
